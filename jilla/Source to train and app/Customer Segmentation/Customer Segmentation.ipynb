{
 "cells": [
  {
   "cell_type": "markdown",
   "metadata": {},
   "source": [
    "## ${\\textbf{Libraries}}$"
   ]
  },
  {
   "cell_type": "code",
   "execution_count": 12,
   "metadata": {},
   "outputs": [],
   "source": [
    "import numpy as np\n",
    "import pandas as pd\n",
    "import scipy\n",
    "\n",
    "#These are the visualization libraries. Matplotlib is standard and is what most people use.\n",
    "#Seaborn works on top of matplotlib, as we mentioned in the course.\n",
    "import matplotlib.pyplot as plt\n",
    "import seaborn as sns\n",
    "# sns.set()predict\n",
    "\n",
    "#For standardizing features. We'll use the StandardScaler module.\n",
    "from sklearn.preprocessing import StandardScaler\n",
    "\n",
    "#Hierarchical clustering with the Sci Py library. We'll use the dendrogram and linkage modules.\n",
    "from scipy.cluster.hierarchy import dendrogram, linkage\n",
    "#Sk learn is one of the most widely used libraries for machine learning. We'll use the k means and pca modules.\n",
    "from sklearn.cluster import KMeans\n",
    "from sklearn.decomposition import PCA\n",
    "# We need to save the models, which we'll use in the next section. We'll use pickle for that.\n",
    "import pickle\n",
    "\n",
    "import warnings\n",
    "warnings.filterwarnings('ignore')"
   ]
  },
  {
   "cell_type": "markdown",
   "metadata": {},
   "source": [
    "## ${\\textbf{Import Data}}$"
   ]
  },
  {
   "cell_type": "code",
   "execution_count": 13,
   "metadata": {},
   "outputs": [],
   "source": [
    "# Load the data, contained in the segmentation data csv file.\n",
    "df= pd.read_csv('segmentation data.csv', index_col = 0)"
   ]
  },
  {
   "cell_type": "markdown",
   "metadata": {},
   "source": [
    "## ${\\textbf{Explore Data}}$"
   ]
  },
  {
   "cell_type": "code",
   "execution_count": 14,
   "metadata": {},
   "outputs": [
    {
     "data": {
      "text/html": [
       "<div>\n",
       "<style scoped>\n",
       "    .dataframe tbody tr th:only-of-type {\n",
       "        vertical-align: middle;\n",
       "    }\n",
       "\n",
       "    .dataframe tbody tr th {\n",
       "        vertical-align: top;\n",
       "    }\n",
       "\n",
       "    .dataframe thead th {\n",
       "        text-align: right;\n",
       "    }\n",
       "</style>\n",
       "<table border=\"1\" class=\"dataframe\">\n",
       "  <thead>\n",
       "    <tr style=\"text-align: right;\">\n",
       "      <th></th>\n",
       "      <th>Sex</th>\n",
       "      <th>Marital status</th>\n",
       "      <th>Age</th>\n",
       "      <th>Education</th>\n",
       "      <th>Income</th>\n",
       "      <th>Occupation</th>\n",
       "      <th>Settlement size</th>\n",
       "    </tr>\n",
       "    <tr>\n",
       "      <th>ID</th>\n",
       "      <th></th>\n",
       "      <th></th>\n",
       "      <th></th>\n",
       "      <th></th>\n",
       "      <th></th>\n",
       "      <th></th>\n",
       "      <th></th>\n",
       "    </tr>\n",
       "  </thead>\n",
       "  <tbody>\n",
       "    <tr>\n",
       "      <th>100000001</th>\n",
       "      <td>0</td>\n",
       "      <td>0</td>\n",
       "      <td>67</td>\n",
       "      <td>2</td>\n",
       "      <td>124670</td>\n",
       "      <td>1</td>\n",
       "      <td>2</td>\n",
       "    </tr>\n",
       "    <tr>\n",
       "      <th>100000002</th>\n",
       "      <td>1</td>\n",
       "      <td>1</td>\n",
       "      <td>22</td>\n",
       "      <td>1</td>\n",
       "      <td>150773</td>\n",
       "      <td>1</td>\n",
       "      <td>2</td>\n",
       "    </tr>\n",
       "    <tr>\n",
       "      <th>100000003</th>\n",
       "      <td>0</td>\n",
       "      <td>0</td>\n",
       "      <td>49</td>\n",
       "      <td>1</td>\n",
       "      <td>89210</td>\n",
       "      <td>0</td>\n",
       "      <td>0</td>\n",
       "    </tr>\n",
       "    <tr>\n",
       "      <th>100000004</th>\n",
       "      <td>0</td>\n",
       "      <td>0</td>\n",
       "      <td>45</td>\n",
       "      <td>1</td>\n",
       "      <td>171565</td>\n",
       "      <td>1</td>\n",
       "      <td>1</td>\n",
       "    </tr>\n",
       "    <tr>\n",
       "      <th>100000005</th>\n",
       "      <td>0</td>\n",
       "      <td>0</td>\n",
       "      <td>53</td>\n",
       "      <td>1</td>\n",
       "      <td>149031</td>\n",
       "      <td>1</td>\n",
       "      <td>1</td>\n",
       "    </tr>\n",
       "  </tbody>\n",
       "</table>\n",
       "</div>"
      ],
      "text/plain": [
       "           Sex  Marital status  Age  Education  Income  Occupation  \\\n",
       "ID                                                                   \n",
       "100000001    0               0   67          2  124670           1   \n",
       "100000002    1               1   22          1  150773           1   \n",
       "100000003    0               0   49          1   89210           0   \n",
       "100000004    0               0   45          1  171565           1   \n",
       "100000005    0               0   53          1  149031           1   \n",
       "\n",
       "           Settlement size  \n",
       "ID                          \n",
       "100000001                2  \n",
       "100000002                2  \n",
       "100000003                0  \n",
       "100000004                1  \n",
       "100000005                1  "
      ]
     },
     "execution_count": 14,
     "metadata": {},
     "output_type": "execute_result"
    }
   ],
   "source": [
    "# Descriptive analysis of the data set. Here we just look at the data to gain some insight. \n",
    "# We do not apply any transformations or changes to the data.\n",
    "df.head()"
   ]
  },
  {
   "cell_type": "code",
   "execution_count": 15,
   "metadata": {},
   "outputs": [
    {
     "data": {
      "text/html": [
       "<div>\n",
       "<style scoped>\n",
       "    .dataframe tbody tr th:only-of-type {\n",
       "        vertical-align: middle;\n",
       "    }\n",
       "\n",
       "    .dataframe tbody tr th {\n",
       "        vertical-align: top;\n",
       "    }\n",
       "\n",
       "    .dataframe thead th {\n",
       "        text-align: right;\n",
       "    }\n",
       "</style>\n",
       "<table border=\"1\" class=\"dataframe\">\n",
       "  <thead>\n",
       "    <tr style=\"text-align: right;\">\n",
       "      <th></th>\n",
       "      <th>Sex</th>\n",
       "      <th>Marital status</th>\n",
       "      <th>Age</th>\n",
       "      <th>Education</th>\n",
       "      <th>Income</th>\n",
       "      <th>Occupation</th>\n",
       "      <th>Settlement size</th>\n",
       "    </tr>\n",
       "  </thead>\n",
       "  <tbody>\n",
       "    <tr>\n",
       "      <th>count</th>\n",
       "      <td>2000.000000</td>\n",
       "      <td>2000.000000</td>\n",
       "      <td>2000.000000</td>\n",
       "      <td>2000.00000</td>\n",
       "      <td>2000.000000</td>\n",
       "      <td>2000.000000</td>\n",
       "      <td>2000.000000</td>\n",
       "    </tr>\n",
       "    <tr>\n",
       "      <th>mean</th>\n",
       "      <td>0.457000</td>\n",
       "      <td>0.496500</td>\n",
       "      <td>35.909000</td>\n",
       "      <td>1.03800</td>\n",
       "      <td>120954.419000</td>\n",
       "      <td>0.810500</td>\n",
       "      <td>0.739000</td>\n",
       "    </tr>\n",
       "    <tr>\n",
       "      <th>std</th>\n",
       "      <td>0.498272</td>\n",
       "      <td>0.500113</td>\n",
       "      <td>11.719402</td>\n",
       "      <td>0.59978</td>\n",
       "      <td>38108.824679</td>\n",
       "      <td>0.638587</td>\n",
       "      <td>0.812533</td>\n",
       "    </tr>\n",
       "    <tr>\n",
       "      <th>min</th>\n",
       "      <td>0.000000</td>\n",
       "      <td>0.000000</td>\n",
       "      <td>18.000000</td>\n",
       "      <td>0.00000</td>\n",
       "      <td>35832.000000</td>\n",
       "      <td>0.000000</td>\n",
       "      <td>0.000000</td>\n",
       "    </tr>\n",
       "    <tr>\n",
       "      <th>25%</th>\n",
       "      <td>0.000000</td>\n",
       "      <td>0.000000</td>\n",
       "      <td>27.000000</td>\n",
       "      <td>1.00000</td>\n",
       "      <td>97663.250000</td>\n",
       "      <td>0.000000</td>\n",
       "      <td>0.000000</td>\n",
       "    </tr>\n",
       "    <tr>\n",
       "      <th>50%</th>\n",
       "      <td>0.000000</td>\n",
       "      <td>0.000000</td>\n",
       "      <td>33.000000</td>\n",
       "      <td>1.00000</td>\n",
       "      <td>115548.500000</td>\n",
       "      <td>1.000000</td>\n",
       "      <td>1.000000</td>\n",
       "    </tr>\n",
       "    <tr>\n",
       "      <th>75%</th>\n",
       "      <td>1.000000</td>\n",
       "      <td>1.000000</td>\n",
       "      <td>42.000000</td>\n",
       "      <td>1.00000</td>\n",
       "      <td>138072.250000</td>\n",
       "      <td>1.000000</td>\n",
       "      <td>1.000000</td>\n",
       "    </tr>\n",
       "    <tr>\n",
       "      <th>max</th>\n",
       "      <td>1.000000</td>\n",
       "      <td>1.000000</td>\n",
       "      <td>76.000000</td>\n",
       "      <td>3.00000</td>\n",
       "      <td>309364.000000</td>\n",
       "      <td>2.000000</td>\n",
       "      <td>2.000000</td>\n",
       "    </tr>\n",
       "  </tbody>\n",
       "</table>\n",
       "</div>"
      ],
      "text/plain": [
       "               Sex  Marital status          Age   Education         Income  \\\n",
       "count  2000.000000     2000.000000  2000.000000  2000.00000    2000.000000   \n",
       "mean      0.457000        0.496500    35.909000     1.03800  120954.419000   \n",
       "std       0.498272        0.500113    11.719402     0.59978   38108.824679   \n",
       "min       0.000000        0.000000    18.000000     0.00000   35832.000000   \n",
       "25%       0.000000        0.000000    27.000000     1.00000   97663.250000   \n",
       "50%       0.000000        0.000000    33.000000     1.00000  115548.500000   \n",
       "75%       1.000000        1.000000    42.000000     1.00000  138072.250000   \n",
       "max       1.000000        1.000000    76.000000     3.00000  309364.000000   \n",
       "\n",
       "        Occupation  Settlement size  \n",
       "count  2000.000000      2000.000000  \n",
       "mean      0.810500         0.739000  \n",
       "std       0.638587         0.812533  \n",
       "min       0.000000         0.000000  \n",
       "25%       0.000000         0.000000  \n",
       "50%       1.000000         1.000000  \n",
       "75%       1.000000         1.000000  \n",
       "max       2.000000         2.000000  "
      ]
     },
     "execution_count": 15,
     "metadata": {},
     "output_type": "execute_result"
    }
   ],
   "source": [
    "df.describe()"
   ]
  },
  {
   "cell_type": "code",
   "execution_count": 16,
   "metadata": {},
   "outputs": [
    {
     "name": "stdout",
     "output_type": "stream",
     "text": [
      "<class 'pandas.core.frame.DataFrame'>\n",
      "Int64Index: 2000 entries, 100000001 to 100002000\n",
      "Data columns (total 7 columns):\n",
      " #   Column           Non-Null Count  Dtype\n",
      "---  ------           --------------  -----\n",
      " 0   Sex              2000 non-null   int64\n",
      " 1   Marital status   2000 non-null   int64\n",
      " 2   Age              2000 non-null   int64\n",
      " 3   Education        2000 non-null   int64\n",
      " 4   Income           2000 non-null   int64\n",
      " 5   Occupation       2000 non-null   int64\n",
      " 6   Settlement size  2000 non-null   int64\n",
      "dtypes: int64(7)\n",
      "memory usage: 125.0 KB\n"
     ]
    }
   ],
   "source": [
    "df.info()"
   ]
  },
  {
   "cell_type": "markdown",
   "metadata": {},
   "source": [
    "## ${\\textbf{Correlation Estimate}}$"
   ]
  },
  {
   "cell_type": "code",
   "execution_count": 17,
   "metadata": {
    "scrolled": true
   },
   "outputs": [
    {
     "data": {
      "text/html": [
       "<div>\n",
       "<style scoped>\n",
       "    .dataframe tbody tr th:only-of-type {\n",
       "        vertical-align: middle;\n",
       "    }\n",
       "\n",
       "    .dataframe tbody tr th {\n",
       "        vertical-align: top;\n",
       "    }\n",
       "\n",
       "    .dataframe thead th {\n",
       "        text-align: right;\n",
       "    }\n",
       "</style>\n",
       "<table border=\"1\" class=\"dataframe\">\n",
       "  <thead>\n",
       "    <tr style=\"text-align: right;\">\n",
       "      <th></th>\n",
       "      <th>Sex</th>\n",
       "      <th>Marital status</th>\n",
       "      <th>Age</th>\n",
       "      <th>Education</th>\n",
       "      <th>Income</th>\n",
       "      <th>Occupation</th>\n",
       "      <th>Settlement size</th>\n",
       "    </tr>\n",
       "  </thead>\n",
       "  <tbody>\n",
       "    <tr>\n",
       "      <th>Sex</th>\n",
       "      <td>1.000000</td>\n",
       "      <td>0.566511</td>\n",
       "      <td>-0.182885</td>\n",
       "      <td>0.244838</td>\n",
       "      <td>-0.195146</td>\n",
       "      <td>-0.202491</td>\n",
       "      <td>-0.300803</td>\n",
       "    </tr>\n",
       "    <tr>\n",
       "      <th>Marital status</th>\n",
       "      <td>0.566511</td>\n",
       "      <td>1.000000</td>\n",
       "      <td>-0.213178</td>\n",
       "      <td>0.374017</td>\n",
       "      <td>-0.073528</td>\n",
       "      <td>-0.029490</td>\n",
       "      <td>-0.097041</td>\n",
       "    </tr>\n",
       "    <tr>\n",
       "      <th>Age</th>\n",
       "      <td>-0.182885</td>\n",
       "      <td>-0.213178</td>\n",
       "      <td>1.000000</td>\n",
       "      <td>0.654605</td>\n",
       "      <td>0.340610</td>\n",
       "      <td>0.108388</td>\n",
       "      <td>0.119751</td>\n",
       "    </tr>\n",
       "    <tr>\n",
       "      <th>Education</th>\n",
       "      <td>0.244838</td>\n",
       "      <td>0.374017</td>\n",
       "      <td>0.654605</td>\n",
       "      <td>1.000000</td>\n",
       "      <td>0.233459</td>\n",
       "      <td>0.064524</td>\n",
       "      <td>0.034732</td>\n",
       "    </tr>\n",
       "    <tr>\n",
       "      <th>Income</th>\n",
       "      <td>-0.195146</td>\n",
       "      <td>-0.073528</td>\n",
       "      <td>0.340610</td>\n",
       "      <td>0.233459</td>\n",
       "      <td>1.000000</td>\n",
       "      <td>0.680357</td>\n",
       "      <td>0.490881</td>\n",
       "    </tr>\n",
       "    <tr>\n",
       "      <th>Occupation</th>\n",
       "      <td>-0.202491</td>\n",
       "      <td>-0.029490</td>\n",
       "      <td>0.108388</td>\n",
       "      <td>0.064524</td>\n",
       "      <td>0.680357</td>\n",
       "      <td>1.000000</td>\n",
       "      <td>0.571795</td>\n",
       "    </tr>\n",
       "    <tr>\n",
       "      <th>Settlement size</th>\n",
       "      <td>-0.300803</td>\n",
       "      <td>-0.097041</td>\n",
       "      <td>0.119751</td>\n",
       "      <td>0.034732</td>\n",
       "      <td>0.490881</td>\n",
       "      <td>0.571795</td>\n",
       "      <td>1.000000</td>\n",
       "    </tr>\n",
       "  </tbody>\n",
       "</table>\n",
       "</div>"
      ],
      "text/plain": [
       "                      Sex  Marital status       Age  Education    Income  \\\n",
       "Sex              1.000000        0.566511 -0.182885   0.244838 -0.195146   \n",
       "Marital status   0.566511        1.000000 -0.213178   0.374017 -0.073528   \n",
       "Age             -0.182885       -0.213178  1.000000   0.654605  0.340610   \n",
       "Education        0.244838        0.374017  0.654605   1.000000  0.233459   \n",
       "Income          -0.195146       -0.073528  0.340610   0.233459  1.000000   \n",
       "Occupation      -0.202491       -0.029490  0.108388   0.064524  0.680357   \n",
       "Settlement size -0.300803       -0.097041  0.119751   0.034732  0.490881   \n",
       "\n",
       "                 Occupation  Settlement size  \n",
       "Sex               -0.202491        -0.300803  \n",
       "Marital status    -0.029490        -0.097041  \n",
       "Age                0.108388         0.119751  \n",
       "Education          0.064524         0.034732  \n",
       "Income             0.680357         0.490881  \n",
       "Occupation         1.000000         0.571795  \n",
       "Settlement size    0.571795         1.000000  "
      ]
     },
     "execution_count": 17,
     "metadata": {},
     "output_type": "execute_result"
    }
   ],
   "source": [
    "# Compute Pearson correlation coefficient for the features in our data set.\n",
    "# The correlation method in pandas, it has the Pearson correlation set as default.\n",
    "df.corr()"
   ]
  },
  {
   "cell_type": "code",
   "execution_count": 18,
   "metadata": {},
   "outputs": [
    {
     "data": {
      "image/png": "[encoded data removed]",
      "text/plain": [
       "<Figure size 1500x900 with 2 Axes>"
      ]
     },
     "metadata": {},
     "output_type": "display_data"
    }
   ],
   "source": [
    "plt.figure(figsize=(15,9))\n",
    "sns.heatmap(df.corr(),annot=True,cmap='RdBu')\n",
    "plt.title('Correlation Heatmap',fontsize=16)\n",
    "plt.yticks(rotation =0)\n",
    "plt.show()"
   ]
  },
  {
   "cell_type": "markdown",
   "metadata": {},
   "source": [
    "## ${\\textbf{Visualize Raw Data}}$"
   ]
  },
  {
   "cell_type": "code",
   "execution_count": 19,
   "metadata": {},
   "outputs": [
    {
     "data": {
      "text/plain": [
       "Text(0.5, 1.0, 'Visualization of raw data')"
      ]
     },
     "execution_count": 19,
     "metadata": {},
     "output_type": "execute_result"
    },
    {
     "data": {
      "image/png": "[encoded data removed]",
      "text/plain": [
       "<Figure size 1200x900 with 1 Axes>"
      ]
     },
     "metadata": {},
     "output_type": "display_data"
    }
   ],
   "source": [
    "# We'll plot the data. We create a 12 by 9 inches figure.\n",
    "# We have 2000 data points, which we'll scatter acrros Age and Income, located on positions 2 and 4 in our data set. \n",
    "plt.figure(figsize = (12, 9))\n",
    "plt.scatter(df.iloc[:, 2], df.iloc[:, 4])\n",
    "plt.xlabel('Age')\n",
    "plt.ylabel('Income')\n",
    "plt.title('Visualization of raw data')"
   ]
  },
  {
   "cell_type": "markdown",
   "metadata": {},
   "source": [
    "## ${\\textbf{Standardization}}$"
   ]
  },
  {
   "cell_type": "code",
   "execution_count": 20,
   "metadata": {},
   "outputs": [],
   "source": [
    "# Standardizing data, so that all features have equal weight. This is important for modelling.\n",
    "# Otherwise, in our case Income would be considered much more important than Education for Instance. \n",
    "# We do not know if this is the case, so we would not like to introduce it to our model. \n",
    "# This is what is also refered to as bias.\n",
    "scaler = StandardScaler()\n",
    "df_std = scaler.fit_transform(df)"
   ]
  },
  {
   "cell_type": "markdown",
   "metadata": {},
   "source": [
    "## ${\\textbf{K-means Clustering}}$"
   ]
  },
  {
   "cell_type": "code",
   "execution_count": 21,
   "metadata": {},
   "outputs": [],
   "source": [
    "# Perform K-means clustering. We consider 1 to 10 clusters, so our for loop runs 10 iterations.\n",
    "# In addition we run the algortihm at many different starting points - k means plus plus. \n",
    "# And we set a random state for reproducibility.\n",
    "wcss = []\n",
    "for i in range(1,11):\n",
    "    kmeans = KMeans(n_clusters = i, init = 'k-means++', random_state = 42)\n",
    "    kmeans.fit(df_std)\n",
    "    wcss.append(kmeans.inertia_)"
   ]
  },
  {
   "cell_type": "code",
   "execution_count": 22,
   "metadata": {},
   "outputs": [
    {
     "data": {
      "image/png": "[encoded data removed]",
      "text/plain": [
       "<Figure size 1000x800 with 1 Axes>"
      ]
     },
     "metadata": {},
     "output_type": "display_data"
    }
   ],
   "source": [
    "# Plot the Within Cluster Sum of Squares for the different number of clusters.\n",
    "# From this plot we choose the number of clusters. \n",
    "# We look for a kink in the graphic, after which the descent of wcss isn't as pronounced.\n",
    "plt.figure(figsize = (10,8))\n",
    "plt.plot(range(1, 11), wcss, marker = 'o', linestyle = '-.',color='red')\n",
    "plt.xlabel('Number of Clusters')\n",
    "plt.ylabel('WCSS')\n",
    "plt.title('K-means Clustering')\n",
    "plt.show()"
   ]
  },
  {
   "cell_type": "code",
   "execution_count": 23,
   "metadata": {},
   "outputs": [],
   "source": [
    "# We run K-means with a fixed number of clusters. In our case 4.\n",
    "kmeans = KMeans(n_clusters = 4, init = 'k-means++', random_state = 42)"
   ]
  },
  {
   "cell_type": "code",
   "execution_count": 24,
   "metadata": {},
   "outputs": [
    {
     "data": {
      "text/plain": [
       "KMeans(n_clusters=4, random_state=42)"
      ]
     },
     "execution_count": 24,
     "metadata": {},
     "output_type": "execute_result"
    }
   ],
   "source": [
    "# We divide our data into the four clusters.\n",
    "kmeans.fit(df_std)"
   ]
  },
  {
   "cell_type": "markdown",
   "metadata": {},
   "source": [
    "### ${\\textbf{Results}}$"
   ]
  },
  {
   "cell_type": "code",
   "execution_count": 25,
   "metadata": {},
   "outputs": [],
   "source": [
    "# We create a new data frame with the original features and add a new column with the assigned clusters for each point.\n",
    "df_segm_kmeans= df_std.copy()\n",
    "df_segm_kmeans = pd.DataFrame(data = df_std,columns = df.columns)\n",
    "df_segm_kmeans['Segment K-means'] = kmeans.labels_"
   ]
  },
  {
   "cell_type": "code",
   "execution_count": 26,
   "metadata": {},
   "outputs": [
    {
     "data": {
      "text/html": [
       "<div>\n",
       "<style scoped>\n",
       "    .dataframe tbody tr th:only-of-type {\n",
       "        vertical-align: middle;\n",
       "    }\n",
       "\n",
       "    .dataframe tbody tr th {\n",
       "        vertical-align: top;\n",
       "    }\n",
       "\n",
       "    .dataframe thead th {\n",
       "        text-align: right;\n",
       "    }\n",
       "</style>\n",
       "<table border=\"1\" class=\"dataframe\">\n",
       "  <thead>\n",
       "    <tr style=\"text-align: right;\">\n",
       "      <th></th>\n",
       "      <th>Sex</th>\n",
       "      <th>Marital status</th>\n",
       "      <th>Age</th>\n",
       "      <th>Education</th>\n",
       "      <th>Income</th>\n",
       "      <th>Occupation</th>\n",
       "      <th>Settlement size</th>\n",
       "      <th>Segment K-means</th>\n",
       "    </tr>\n",
       "  </thead>\n",
       "  <tbody>\n",
       "    <tr>\n",
       "      <th>0</th>\n",
       "      <td>-0.917399</td>\n",
       "      <td>-0.993024</td>\n",
       "      <td>2.653614</td>\n",
       "      <td>1.604323</td>\n",
       "      <td>0.097524</td>\n",
       "      <td>0.296823</td>\n",
       "      <td>1.552326</td>\n",
       "      <td>0</td>\n",
       "    </tr>\n",
       "    <tr>\n",
       "      <th>1</th>\n",
       "      <td>1.090038</td>\n",
       "      <td>1.007025</td>\n",
       "      <td>-1.187132</td>\n",
       "      <td>-0.063372</td>\n",
       "      <td>0.782654</td>\n",
       "      <td>0.296823</td>\n",
       "      <td>1.552326</td>\n",
       "      <td>2</td>\n",
       "    </tr>\n",
       "    <tr>\n",
       "      <th>2</th>\n",
       "      <td>-0.917399</td>\n",
       "      <td>-0.993024</td>\n",
       "      <td>1.117316</td>\n",
       "      <td>-0.063372</td>\n",
       "      <td>-0.833202</td>\n",
       "      <td>-1.269525</td>\n",
       "      <td>-0.909730</td>\n",
       "      <td>1</td>\n",
       "    </tr>\n",
       "    <tr>\n",
       "      <th>3</th>\n",
       "      <td>-0.917399</td>\n",
       "      <td>-0.993024</td>\n",
       "      <td>0.775916</td>\n",
       "      <td>-0.063372</td>\n",
       "      <td>1.328386</td>\n",
       "      <td>0.296823</td>\n",
       "      <td>0.321298</td>\n",
       "      <td>3</td>\n",
       "    </tr>\n",
       "    <tr>\n",
       "      <th>4</th>\n",
       "      <td>-0.917399</td>\n",
       "      <td>-0.993024</td>\n",
       "      <td>1.458716</td>\n",
       "      <td>-0.063372</td>\n",
       "      <td>0.736932</td>\n",
       "      <td>0.296823</td>\n",
       "      <td>0.321298</td>\n",
       "      <td>3</td>\n",
       "    </tr>\n",
       "  </tbody>\n",
       "</table>\n",
       "</div>"
      ],
      "text/plain": [
       "        Sex  Marital status       Age  Education    Income  Occupation  \\\n",
       "0 -0.917399       -0.993024  2.653614   1.604323  0.097524    0.296823   \n",
       "1  1.090038        1.007025 -1.187132  -0.063372  0.782654    0.296823   \n",
       "2 -0.917399       -0.993024  1.117316  -0.063372 -0.833202   -1.269525   \n",
       "3 -0.917399       -0.993024  0.775916  -0.063372  1.328386    0.296823   \n",
       "4 -0.917399       -0.993024  1.458716  -0.063372  0.736932    0.296823   \n",
       "\n",
       "   Settlement size  Segment K-means  \n",
       "0         1.552326                0  \n",
       "1         1.552326                2  \n",
       "2        -0.909730                1  \n",
       "3         0.321298                3  \n",
       "4         0.321298                3  "
      ]
     },
     "execution_count": 26,
     "metadata": {},
     "output_type": "execute_result"
    }
   ],
   "source": [
    "df_segm_kmeans.head()"
   ]
  },
  {
   "cell_type": "code",
   "execution_count": 27,
   "metadata": {
    "scrolled": true
   },
   "outputs": [
    {
     "data": {
      "text/html": [
       "<div>\n",
       "<style scoped>\n",
       "    .dataframe tbody tr th:only-of-type {\n",
       "        vertical-align: middle;\n",
       "    }\n",
       "\n",
       "    .dataframe tbody tr th {\n",
       "        vertical-align: top;\n",
       "    }\n",
       "\n",
       "    .dataframe thead th {\n",
       "        text-align: right;\n",
       "    }\n",
       "</style>\n",
       "<table border=\"1\" class=\"dataframe\">\n",
       "  <thead>\n",
       "    <tr style=\"text-align: right;\">\n",
       "      <th></th>\n",
       "      <th>Sex</th>\n",
       "      <th>Marital status</th>\n",
       "      <th>Age</th>\n",
       "      <th>Education</th>\n",
       "      <th>Income</th>\n",
       "      <th>Occupation</th>\n",
       "      <th>Settlement size</th>\n",
       "    </tr>\n",
       "    <tr>\n",
       "      <th>Segment K-means</th>\n",
       "      <th></th>\n",
       "      <th></th>\n",
       "      <th></th>\n",
       "      <th></th>\n",
       "      <th></th>\n",
       "      <th></th>\n",
       "      <th></th>\n",
       "    </tr>\n",
       "  </thead>\n",
       "  <tbody>\n",
       "    <tr>\n",
       "      <th>0</th>\n",
       "      <td>0.090136</td>\n",
       "      <td>0.391040</td>\n",
       "      <td>1.689452</td>\n",
       "      <td>1.819919</td>\n",
       "      <td>0.981226</td>\n",
       "      <td>0.499317</td>\n",
       "      <td>0.457039</td>\n",
       "    </tr>\n",
       "    <tr>\n",
       "      <th>1</th>\n",
       "      <td>-0.209147</td>\n",
       "      <td>-0.954062</td>\n",
       "      <td>-0.028257</td>\n",
       "      <td>-0.485711</td>\n",
       "      <td>-0.606168</td>\n",
       "      <td>-0.754190</td>\n",
       "      <td>-0.856438</td>\n",
       "    </tr>\n",
       "    <tr>\n",
       "      <th>2</th>\n",
       "      <td>0.796753</td>\n",
       "      <td>1.001351</td>\n",
       "      <td>-0.592830</td>\n",
       "      <td>0.050173</td>\n",
       "      <td>-0.398834</td>\n",
       "      <td>-0.276394</td>\n",
       "      <td>-0.389380</td>\n",
       "    </tr>\n",
       "    <tr>\n",
       "      <th>3</th>\n",
       "      <td>-0.857528</td>\n",
       "      <td>-0.645647</td>\n",
       "      <td>-0.023378</td>\n",
       "      <td>-0.508091</td>\n",
       "      <td>0.531869</td>\n",
       "      <td>0.722760</td>\n",
       "      <td>0.964888</td>\n",
       "    </tr>\n",
       "  </tbody>\n",
       "</table>\n",
       "</div>"
      ],
      "text/plain": [
       "                      Sex  Marital status       Age  Education    Income  \\\n",
       "Segment K-means                                                            \n",
       "0                0.090136        0.391040  1.689452   1.819919  0.981226   \n",
       "1               -0.209147       -0.954062 -0.028257  -0.485711 -0.606168   \n",
       "2                0.796753        1.001351 -0.592830   0.050173 -0.398834   \n",
       "3               -0.857528       -0.645647 -0.023378  -0.508091  0.531869   \n",
       "\n",
       "                 Occupation  Settlement size  \n",
       "Segment K-means                               \n",
       "0                  0.499317         0.457039  \n",
       "1                 -0.754190        -0.856438  \n",
       "2                 -0.276394        -0.389380  \n",
       "3                  0.722760         0.964888  "
      ]
     },
     "execution_count": 27,
     "metadata": {},
     "output_type": "execute_result"
    }
   ],
   "source": [
    "# Calculate mean values for the clusters\n",
    "df_segm_analysis = df_segm_kmeans.groupby(['Segment K-means']).mean()\n",
    "df_segm_analysis.head()"
   ]
  },
  {
   "cell_type": "code",
   "execution_count": 28,
   "metadata": {},
   "outputs": [
    {
     "data": {
      "text/html": [
       "<div>\n",
       "<style scoped>\n",
       "    .dataframe tbody tr th:only-of-type {\n",
       "        vertical-align: middle;\n",
       "    }\n",
       "\n",
       "    .dataframe tbody tr th {\n",
       "        vertical-align: top;\n",
       "    }\n",
       "\n",
       "    .dataframe thead th {\n",
       "        text-align: right;\n",
       "    }\n",
       "</style>\n",
       "<table border=\"1\" class=\"dataframe\">\n",
       "  <thead>\n",
       "    <tr style=\"text-align: right;\">\n",
       "      <th></th>\n",
       "      <th>Sex</th>\n",
       "      <th>Marital status</th>\n",
       "      <th>Age</th>\n",
       "      <th>Education</th>\n",
       "      <th>Income</th>\n",
       "      <th>Occupation</th>\n",
       "      <th>Settlement size</th>\n",
       "    </tr>\n",
       "    <tr>\n",
       "      <th>Segment K-means</th>\n",
       "      <th></th>\n",
       "      <th></th>\n",
       "      <th></th>\n",
       "      <th></th>\n",
       "      <th></th>\n",
       "      <th></th>\n",
       "      <th></th>\n",
       "    </tr>\n",
       "  </thead>\n",
       "  <tbody>\n",
       "    <tr>\n",
       "      <th>well-off</th>\n",
       "      <td>0.090136</td>\n",
       "      <td>0.391040</td>\n",
       "      <td>1.689452</td>\n",
       "      <td>1.819919</td>\n",
       "      <td>0.981226</td>\n",
       "      <td>0.499317</td>\n",
       "      <td>0.457039</td>\n",
       "    </tr>\n",
       "    <tr>\n",
       "      <th>fewer-opportunities</th>\n",
       "      <td>-0.209147</td>\n",
       "      <td>-0.954062</td>\n",
       "      <td>-0.028257</td>\n",
       "      <td>-0.485711</td>\n",
       "      <td>-0.606168</td>\n",
       "      <td>-0.754190</td>\n",
       "      <td>-0.856438</td>\n",
       "    </tr>\n",
       "    <tr>\n",
       "      <th>standard</th>\n",
       "      <td>0.796753</td>\n",
       "      <td>1.001351</td>\n",
       "      <td>-0.592830</td>\n",
       "      <td>0.050173</td>\n",
       "      <td>-0.398834</td>\n",
       "      <td>-0.276394</td>\n",
       "      <td>-0.389380</td>\n",
       "    </tr>\n",
       "    <tr>\n",
       "      <th>career focused</th>\n",
       "      <td>-0.857528</td>\n",
       "      <td>-0.645647</td>\n",
       "      <td>-0.023378</td>\n",
       "      <td>-0.508091</td>\n",
       "      <td>0.531869</td>\n",
       "      <td>0.722760</td>\n",
       "      <td>0.964888</td>\n",
       "    </tr>\n",
       "  </tbody>\n",
       "</table>\n",
       "</div>"
      ],
      "text/plain": [
       "                          Sex  Marital status       Age  Education    Income  \\\n",
       "Segment K-means                                                                \n",
       "well-off             0.090136        0.391040  1.689452   1.819919  0.981226   \n",
       "fewer-opportunities -0.209147       -0.954062 -0.028257  -0.485711 -0.606168   \n",
       "standard             0.796753        1.001351 -0.592830   0.050173 -0.398834   \n",
       "career focused      -0.857528       -0.645647 -0.023378  -0.508091  0.531869   \n",
       "\n",
       "                     Occupation  Settlement size  \n",
       "Segment K-means                                   \n",
       "well-off               0.499317         0.457039  \n",
       "fewer-opportunities   -0.754190        -0.856438  \n",
       "standard              -0.276394        -0.389380  \n",
       "career focused         0.722760         0.964888  "
      ]
     },
     "execution_count": 28,
     "metadata": {},
     "output_type": "execute_result"
    }
   ],
   "source": [
    "df_segm_analysis.rename({0:'well-off',\n",
    "                         1:'fewer-opportunities',\n",
    "                         2:'standard',\n",
    "                         3:'career focused'})\n"
   ]
  },
  {
   "cell_type": "code",
   "execution_count": 29,
   "metadata": {},
   "outputs": [],
   "source": [
    "# Add the segment labels to our table\n",
    "df_segm_kmeans['Labels'] = df_segm_kmeans['Segment K-means'].map({0:'well-off', \n",
    "                                                                  1:'fewer opportunities',\n",
    "                                                                  2:'standard', \n",
    "                                                                  3:'career focused'})"
   ]
  },
  {
   "cell_type": "code",
   "execution_count": 30,
   "metadata": {},
   "outputs": [
    {
     "data": {
      "text/html": [
       "<div>\n",
       "<style scoped>\n",
       "    .dataframe tbody tr th:only-of-type {\n",
       "        vertical-align: middle;\n",
       "    }\n",
       "\n",
       "    .dataframe tbody tr th {\n",
       "        vertical-align: top;\n",
       "    }\n",
       "\n",
       "    .dataframe thead th {\n",
       "        text-align: right;\n",
       "    }\n",
       "</style>\n",
       "<table border=\"1\" class=\"dataframe\">\n",
       "  <thead>\n",
       "    <tr style=\"text-align: right;\">\n",
       "      <th></th>\n",
       "      <th>Sex</th>\n",
       "      <th>Marital status</th>\n",
       "      <th>Age</th>\n",
       "      <th>Education</th>\n",
       "      <th>Income</th>\n",
       "      <th>Occupation</th>\n",
       "      <th>Settlement size</th>\n",
       "      <th>Segment K-means</th>\n",
       "      <th>Labels</th>\n",
       "    </tr>\n",
       "  </thead>\n",
       "  <tbody>\n",
       "    <tr>\n",
       "      <th>0</th>\n",
       "      <td>-0.917399</td>\n",
       "      <td>-0.993024</td>\n",
       "      <td>2.653614</td>\n",
       "      <td>1.604323</td>\n",
       "      <td>0.097524</td>\n",
       "      <td>0.296823</td>\n",
       "      <td>1.552326</td>\n",
       "      <td>0</td>\n",
       "      <td>well-off</td>\n",
       "    </tr>\n",
       "    <tr>\n",
       "      <th>1</th>\n",
       "      <td>1.090038</td>\n",
       "      <td>1.007025</td>\n",
       "      <td>-1.187132</td>\n",
       "      <td>-0.063372</td>\n",
       "      <td>0.782654</td>\n",
       "      <td>0.296823</td>\n",
       "      <td>1.552326</td>\n",
       "      <td>2</td>\n",
       "      <td>standard</td>\n",
       "    </tr>\n",
       "    <tr>\n",
       "      <th>2</th>\n",
       "      <td>-0.917399</td>\n",
       "      <td>-0.993024</td>\n",
       "      <td>1.117316</td>\n",
       "      <td>-0.063372</td>\n",
       "      <td>-0.833202</td>\n",
       "      <td>-1.269525</td>\n",
       "      <td>-0.909730</td>\n",
       "      <td>1</td>\n",
       "      <td>fewer opportunities</td>\n",
       "    </tr>\n",
       "    <tr>\n",
       "      <th>3</th>\n",
       "      <td>-0.917399</td>\n",
       "      <td>-0.993024</td>\n",
       "      <td>0.775916</td>\n",
       "      <td>-0.063372</td>\n",
       "      <td>1.328386</td>\n",
       "      <td>0.296823</td>\n",
       "      <td>0.321298</td>\n",
       "      <td>3</td>\n",
       "      <td>career focused</td>\n",
       "    </tr>\n",
       "    <tr>\n",
       "      <th>4</th>\n",
       "      <td>-0.917399</td>\n",
       "      <td>-0.993024</td>\n",
       "      <td>1.458716</td>\n",
       "      <td>-0.063372</td>\n",
       "      <td>0.736932</td>\n",
       "      <td>0.296823</td>\n",
       "      <td>0.321298</td>\n",
       "      <td>3</td>\n",
       "      <td>career focused</td>\n",
       "    </tr>\n",
       "  </tbody>\n",
       "</table>\n",
       "</div>"
      ],
      "text/plain": [
       "        Sex  Marital status       Age  Education    Income  Occupation  \\\n",
       "0 -0.917399       -0.993024  2.653614   1.604323  0.097524    0.296823   \n",
       "1  1.090038        1.007025 -1.187132  -0.063372  0.782654    0.296823   \n",
       "2 -0.917399       -0.993024  1.117316  -0.063372 -0.833202   -1.269525   \n",
       "3 -0.917399       -0.993024  0.775916  -0.063372  1.328386    0.296823   \n",
       "4 -0.917399       -0.993024  1.458716  -0.063372  0.736932    0.296823   \n",
       "\n",
       "   Settlement size  Segment K-means               Labels  \n",
       "0         1.552326                0             well-off  \n",
       "1         1.552326                2             standard  \n",
       "2        -0.909730                1  fewer opportunities  \n",
       "3         0.321298                3       career focused  \n",
       "4         0.321298                3       career focused  "
      ]
     },
     "execution_count": 30,
     "metadata": {},
     "output_type": "execute_result"
    }
   ],
   "source": [
    "df_segm_kmeans.head()"
   ]
  },
  {
   "cell_type": "code",
   "execution_count": 31,
   "metadata": {},
   "outputs": [],
   "source": [
    "# We plot the results from the K-means algorithm. \n",
    "# Each point in our data set is plotted with the color of the clusters it has been assigned to.\n",
    "# x_axis = df_segm_kmeans['Age']\n",
    "# y_axis = df_segm_kmeans['Income']\n",
    "# plt.figure(figsize = (10, 8))\n",
    "# sns.scatterplot(x_axis, y_axis, hue = df_segm_kmeans['Labels'], palette = ['g', 'r', 'c', 'm'])\n",
    "# plt.title('Segmentation K-means')\n",
    "# plt.show()"
   ]
  },
  {
   "cell_type": "markdown",
   "metadata": {},
   "source": [
    "### ${\\textbf{PCA}}$"
   ]
  },
  {
   "cell_type": "code",
   "execution_count": 32,
   "metadata": {},
   "outputs": [],
   "source": [
    "# Employ PCA to find a subset of components, which explain the variance in the data.\n",
    "pca = PCA()"
   ]
  },
  {
   "cell_type": "code",
   "execution_count": 33,
   "metadata": {},
   "outputs": [
    {
     "data": {
      "text/plain": [
       "PCA()"
      ]
     },
     "execution_count": 33,
     "metadata": {},
     "output_type": "execute_result"
    }
   ],
   "source": [
    "# Fit PCA with our standardized data.\n",
    "pca.fit(df_std)"
   ]
  },
  {
   "cell_type": "code",
   "execution_count": 34,
   "metadata": {},
   "outputs": [
    {
     "data": {
      "text/plain": [
       "array([0.35696328, 0.26250923, 0.18821114, 0.0755775 , 0.05716512,\n",
       "       0.03954794, 0.02002579])"
      ]
     },
     "execution_count": 34,
     "metadata": {},
     "output_type": "execute_result"
    }
   ],
   "source": [
    "# The attribute shows how much variance is explained by each of the seven individual components.\n",
    "pca.explained_variance_ratio_"
   ]
  },
  {
   "cell_type": "code",
   "execution_count": 35,
   "metadata": {},
   "outputs": [
    {
     "data": {
      "text/plain": [
       "Text(0, 0.5, 'Cumulative Explained Variance')"
      ]
     },
     "execution_count": 35,
     "metadata": {},
     "output_type": "execute_result"
    },
    {
     "data": {
      "image/png": "[encoded data removed]",
      "text/plain": [
       "<Figure size 1200x900 with 1 Axes>"
      ]
     },
     "metadata": {},
     "output_type": "display_data"
    }
   ],
   "source": [
    "# Plot the cumulative variance explained by total number of components.\n",
    "# On this graph we choose the subset of components we want to keep. \n",
    "# Generally, we want to keep around 80 % of the explained variance.\n",
    "plt.figure(figsize = (12,9))\n",
    "plt.plot(range(1,8), pca.explained_variance_ratio_.cumsum(), marker = 'o', linestyle = '-.',color='red')\n",
    "plt.title('Explained Variance by Components',fontsize=16)\n",
    "plt.xlabel('Number of Components',fontsize=14)\n",
    "plt.ylabel('Cumulative Explained Variance',fontsize=14)"
   ]
  },
  {
   "cell_type": "code",
   "execution_count": 36,
   "metadata": {},
   "outputs": [],
   "source": [
    "# We choose three components. 3 or 4 seems the right choice according to the previous graph.\n",
    "pca = PCA(n_components = 3)"
   ]
  },
  {
   "cell_type": "code",
   "execution_count": 37,
   "metadata": {},
   "outputs": [
    {
     "data": {
      "text/plain": [
       "PCA(n_components=3)"
      ]
     },
     "execution_count": 37,
     "metadata": {},
     "output_type": "execute_result"
    }
   ],
   "source": [
    "#Fit the model the our data with the selected number of components. In our case three.\n",
    "pca.fit(df_std)"
   ]
  },
  {
   "cell_type": "markdown",
   "metadata": {},
   "source": [
    "### ${\\textbf{PCA Results}}$"
   ]
  },
  {
   "cell_type": "code",
   "execution_count": 38,
   "metadata": {},
   "outputs": [
    {
     "data": {
      "text/plain": [
       "array([[-0.31469524, -0.19170439,  0.32609979,  0.15684089,  0.52452463,\n",
       "         0.49205868,  0.46478852],\n",
       "       [ 0.45800608,  0.51263492,  0.31220793,  0.63980683,  0.12468314,\n",
       "         0.01465779, -0.06963165],\n",
       "       [-0.29301261, -0.44197739,  0.60954372,  0.27560461, -0.16566231,\n",
       "        -0.39550539, -0.29568503]])"
      ]
     },
     "execution_count": 38,
     "metadata": {},
     "output_type": "execute_result"
    }
   ],
   "source": [
    "# Here we discucss the results from the PCA.\n",
    "# The components attribute shows the loadings of each component on each of the seven original features.\n",
    "# The loadings are the correlations between the components and the original features. \n",
    "pca.components_"
   ]
  },
  {
   "cell_type": "code",
   "execution_count": 39,
   "metadata": {},
   "outputs": [
    {
     "data": {
      "text/html": [
       "<div>\n",
       "<style scoped>\n",
       "    .dataframe tbody tr th:only-of-type {\n",
       "        vertical-align: middle;\n",
       "    }\n",
       "\n",
       "    .dataframe tbody tr th {\n",
       "        vertical-align: top;\n",
       "    }\n",
       "\n",
       "    .dataframe thead th {\n",
       "        text-align: right;\n",
       "    }\n",
       "</style>\n",
       "<table border=\"1\" class=\"dataframe\">\n",
       "  <thead>\n",
       "    <tr style=\"text-align: right;\">\n",
       "      <th></th>\n",
       "      <th>Sex</th>\n",
       "      <th>Marital status</th>\n",
       "      <th>Age</th>\n",
       "      <th>Education</th>\n",
       "      <th>Income</th>\n",
       "      <th>Occupation</th>\n",
       "      <th>Settlement size</th>\n",
       "    </tr>\n",
       "  </thead>\n",
       "  <tbody>\n",
       "    <tr>\n",
       "      <th>Component 1</th>\n",
       "      <td>-0.314695</td>\n",
       "      <td>-0.191704</td>\n",
       "      <td>0.326100</td>\n",
       "      <td>0.156841</td>\n",
       "      <td>0.524525</td>\n",
       "      <td>0.492059</td>\n",
       "      <td>0.464789</td>\n",
       "    </tr>\n",
       "    <tr>\n",
       "      <th>Component 2</th>\n",
       "      <td>0.458006</td>\n",
       "      <td>0.512635</td>\n",
       "      <td>0.312208</td>\n",
       "      <td>0.639807</td>\n",
       "      <td>0.124683</td>\n",
       "      <td>0.014658</td>\n",
       "      <td>-0.069632</td>\n",
       "    </tr>\n",
       "    <tr>\n",
       "      <th>Component 3</th>\n",
       "      <td>-0.293013</td>\n",
       "      <td>-0.441977</td>\n",
       "      <td>0.609544</td>\n",
       "      <td>0.275605</td>\n",
       "      <td>-0.165662</td>\n",
       "      <td>-0.395505</td>\n",
       "      <td>-0.295685</td>\n",
       "    </tr>\n",
       "  </tbody>\n",
       "</table>\n",
       "</div>"
      ],
      "text/plain": [
       "                  Sex  Marital status       Age  Education    Income  \\\n",
       "Component 1 -0.314695       -0.191704  0.326100   0.156841  0.524525   \n",
       "Component 2  0.458006        0.512635  0.312208   0.639807  0.124683   \n",
       "Component 3 -0.293013       -0.441977  0.609544   0.275605 -0.165662   \n",
       "\n",
       "             Occupation  Settlement size  \n",
       "Component 1    0.492059         0.464789  \n",
       "Component 2    0.014658        -0.069632  \n",
       "Component 3   -0.395505        -0.295685  "
      ]
     },
     "execution_count": 39,
     "metadata": {},
     "output_type": "execute_result"
    }
   ],
   "source": [
    "df_pca_comp = pd.DataFrame(data = pca.components_,\n",
    "                           columns = df.columns,\n",
    "                           index = ['Component 1', 'Component 2', 'Component 3'])\n",
    "df_pca_comp"
   ]
  },
  {
   "cell_type": "code",
   "execution_count": 40,
   "metadata": {},
   "outputs": [
    {
     "data": {
      "image/png": "[encoded data removed]",
      "text/plain": [
       "<Figure size 1200x900 with 2 Axes>"
      ]
     },
     "metadata": {},
     "output_type": "display_data"
    }
   ],
   "source": [
    "# Heat Map for Principal Components against original features. Again we use the RdBu color scheme and set borders to -1 and 1.\n",
    "plt.figure(figsize=(12,9))\n",
    "sns.heatmap(df_pca_comp,\n",
    "            vmin = -1, \n",
    "            vmax = 1,\n",
    "            cmap = 'RdBu',\n",
    "            annot = True)\n",
    "plt.yticks([0, 1, 2], \n",
    "           ['Component 1', 'Component 2', 'Component 3'],\n",
    "           rotation = 45,\n",
    "           fontsize = 12)\n",
    "plt.title('Components vs Original Features',fontsize = 14)\n",
    "plt.show()"
   ]
  },
  {
   "cell_type": "code",
   "execution_count": 41,
   "metadata": {},
   "outputs": [
    {
     "data": {
      "text/plain": [
       "array([[ 2.51474593,  0.83412239,  2.1748059 ],\n",
       "       [ 0.34493528,  0.59814564, -2.21160279],\n",
       "       [-0.65106267, -0.68009318,  2.2804186 ],\n",
       "       ...,\n",
       "       [-1.45229829, -2.23593665,  0.89657125],\n",
       "       [-2.24145254,  0.62710847, -0.53045631],\n",
       "       [-1.86688505, -2.45467234,  0.66262172]])"
      ]
     },
     "execution_count": 41,
     "metadata": {},
     "output_type": "execute_result"
    }
   ],
   "source": [
    "pca.transform(df_std)"
   ]
  },
  {
   "cell_type": "code",
   "execution_count": 42,
   "metadata": {},
   "outputs": [],
   "source": [
    "scores_pca = pca.transform(df_std)"
   ]
  },
  {
   "cell_type": "markdown",
   "metadata": {},
   "source": [
    "### ${\\textbf{K-means clustering with PCA}}$"
   ]
  },
  {
   "cell_type": "code",
   "execution_count": 43,
   "metadata": {},
   "outputs": [],
   "source": [
    "# We fit K means using the transformed data from the PCA.\n",
    "wcss = []\n",
    "for i in range(1,11):\n",
    "    kmeans_pca = KMeans(n_clusters = i, init = 'k-means++', random_state = 42)\n",
    "    kmeans_pca.fit(scores_pca)\n",
    "    wcss.append(kmeans_pca.inertia_)"
   ]
  },
  {
   "cell_type": "code",
   "execution_count": 44,
   "metadata": {},
   "outputs": [],
   "source": [
    "# We have chosen four clusters, so we run K-means with number of clusters equals four. \n",
    "# Same initializer and random state as before.\n",
    "kmeans_pca = KMeans(n_clusters = 4, init = 'k-means++', random_state = 42)"
   ]
  },
  {
   "cell_type": "code",
   "execution_count": 45,
   "metadata": {},
   "outputs": [
    {
     "data": {
      "text/plain": [
       "KMeans(n_clusters=4, random_state=42)"
      ]
     },
     "execution_count": 45,
     "metadata": {},
     "output_type": "execute_result"
    }
   ],
   "source": [
    "# We fit our data with the k-means pca model\n",
    "kmeans_pca.fit(scores_pca)"
   ]
  },
  {
   "cell_type": "markdown",
   "metadata": {},
   "source": [
    "### ${\\textbf{K-means clustering with PCA Results}}$"
   ]
  },
  {
   "cell_type": "code",
   "execution_count": 46,
   "metadata": {},
   "outputs": [],
   "source": [
    "# We create a new data frame with the original features and add the PCA scores and assigned clusters.\n",
    "df_segm_pca_kmeans = pd.concat([df.reset_index(drop = True), pd.DataFrame(scores_pca)], axis = 1)\n",
    "df_segm_pca_kmeans.columns.values[-3: ] = ['Component 1', 'Component 2', 'Component 3']\n",
    "# The last column we add contains the pca k-means clustering labels.\n",
    "df_segm_pca_kmeans['Segment K-means PCA'] = kmeans_pca.labels_"
   ]
  },
  {
   "cell_type": "code",
   "execution_count": 47,
   "metadata": {},
   "outputs": [
    {
     "data": {
      "text/html": [
       "<div>\n",
       "<style scoped>\n",
       "    .dataframe tbody tr th:only-of-type {\n",
       "        vertical-align: middle;\n",
       "    }\n",
       "\n",
       "    .dataframe tbody tr th {\n",
       "        vertical-align: top;\n",
       "    }\n",
       "\n",
       "    .dataframe thead th {\n",
       "        text-align: right;\n",
       "    }\n",
       "</style>\n",
       "<table border=\"1\" class=\"dataframe\">\n",
       "  <thead>\n",
       "    <tr style=\"text-align: right;\">\n",
       "      <th></th>\n",
       "      <th>Sex</th>\n",
       "      <th>Marital status</th>\n",
       "      <th>Age</th>\n",
       "      <th>Education</th>\n",
       "      <th>Income</th>\n",
       "      <th>Occupation</th>\n",
       "      <th>Settlement size</th>\n",
       "      <th>Component 1</th>\n",
       "      <th>Component 2</th>\n",
       "      <th>Component 3</th>\n",
       "      <th>Segment K-means PCA</th>\n",
       "    </tr>\n",
       "  </thead>\n",
       "  <tbody>\n",
       "    <tr>\n",
       "      <th>0</th>\n",
       "      <td>0</td>\n",
       "      <td>0</td>\n",
       "      <td>67</td>\n",
       "      <td>2</td>\n",
       "      <td>124670</td>\n",
       "      <td>1</td>\n",
       "      <td>2</td>\n",
       "      <td>2.514746</td>\n",
       "      <td>0.834122</td>\n",
       "      <td>2.174806</td>\n",
       "      <td>3</td>\n",
       "    </tr>\n",
       "    <tr>\n",
       "      <th>1</th>\n",
       "      <td>1</td>\n",
       "      <td>1</td>\n",
       "      <td>22</td>\n",
       "      <td>1</td>\n",
       "      <td>150773</td>\n",
       "      <td>1</td>\n",
       "      <td>2</td>\n",
       "      <td>0.344935</td>\n",
       "      <td>0.598146</td>\n",
       "      <td>-2.211603</td>\n",
       "      <td>0</td>\n",
       "    </tr>\n",
       "    <tr>\n",
       "      <th>2</th>\n",
       "      <td>0</td>\n",
       "      <td>0</td>\n",
       "      <td>49</td>\n",
       "      <td>1</td>\n",
       "      <td>89210</td>\n",
       "      <td>0</td>\n",
       "      <td>0</td>\n",
       "      <td>-0.651063</td>\n",
       "      <td>-0.680093</td>\n",
       "      <td>2.280419</td>\n",
       "      <td>2</td>\n",
       "    </tr>\n",
       "    <tr>\n",
       "      <th>3</th>\n",
       "      <td>0</td>\n",
       "      <td>0</td>\n",
       "      <td>45</td>\n",
       "      <td>1</td>\n",
       "      <td>171565</td>\n",
       "      <td>1</td>\n",
       "      <td>1</td>\n",
       "      <td>1.714316</td>\n",
       "      <td>-0.579927</td>\n",
       "      <td>0.730731</td>\n",
       "      <td>1</td>\n",
       "    </tr>\n",
       "    <tr>\n",
       "      <th>4</th>\n",
       "      <td>0</td>\n",
       "      <td>0</td>\n",
       "      <td>53</td>\n",
       "      <td>1</td>\n",
       "      <td>149031</td>\n",
       "      <td>1</td>\n",
       "      <td>1</td>\n",
       "      <td>1.626745</td>\n",
       "      <td>-0.440496</td>\n",
       "      <td>1.244909</td>\n",
       "      <td>1</td>\n",
       "    </tr>\n",
       "  </tbody>\n",
       "</table>\n",
       "</div>"
      ],
      "text/plain": [
       "   Sex  Marital status  Age  Education  Income  Occupation  Settlement size  \\\n",
       "0    0               0   67          2  124670           1                2   \n",
       "1    1               1   22          1  150773           1                2   \n",
       "2    0               0   49          1   89210           0                0   \n",
       "3    0               0   45          1  171565           1                1   \n",
       "4    0               0   53          1  149031           1                1   \n",
       "\n",
       "   Component 1  Component 2  Component 3  Segment K-means PCA  \n",
       "0     2.514746     0.834122     2.174806                    3  \n",
       "1     0.344935     0.598146    -2.211603                    0  \n",
       "2    -0.651063    -0.680093     2.280419                    2  \n",
       "3     1.714316    -0.579927     0.730731                    1  \n",
       "4     1.626745    -0.440496     1.244909                    1  "
      ]
     },
     "execution_count": 47,
     "metadata": {},
     "output_type": "execute_result"
    }
   ],
   "source": [
    "df_segm_pca_kmeans.head()"
   ]
  },
  {
   "cell_type": "code",
   "execution_count": 48,
   "metadata": {},
   "outputs": [
    {
     "data": {
      "text/html": [
       "<div>\n",
       "<style scoped>\n",
       "    .dataframe tbody tr th:only-of-type {\n",
       "        vertical-align: middle;\n",
       "    }\n",
       "\n",
       "    .dataframe tbody tr th {\n",
       "        vertical-align: top;\n",
       "    }\n",
       "\n",
       "    .dataframe thead th {\n",
       "        text-align: right;\n",
       "    }\n",
       "</style>\n",
       "<table border=\"1\" class=\"dataframe\">\n",
       "  <thead>\n",
       "    <tr style=\"text-align: right;\">\n",
       "      <th></th>\n",
       "      <th>Sex</th>\n",
       "      <th>Marital status</th>\n",
       "      <th>Age</th>\n",
       "      <th>Education</th>\n",
       "      <th>Income</th>\n",
       "      <th>Occupation</th>\n",
       "      <th>Settlement size</th>\n",
       "      <th>Component 1</th>\n",
       "      <th>Component 2</th>\n",
       "      <th>Component 3</th>\n",
       "    </tr>\n",
       "    <tr>\n",
       "      <th>Segment K-means PCA</th>\n",
       "      <th></th>\n",
       "      <th></th>\n",
       "      <th></th>\n",
       "      <th></th>\n",
       "      <th></th>\n",
       "      <th></th>\n",
       "      <th></th>\n",
       "      <th></th>\n",
       "      <th></th>\n",
       "      <th></th>\n",
       "    </tr>\n",
       "  </thead>\n",
       "  <tbody>\n",
       "    <tr>\n",
       "      <th>0</th>\n",
       "      <td>0.900289</td>\n",
       "      <td>0.965318</td>\n",
       "      <td>28.878613</td>\n",
       "      <td>1.060694</td>\n",
       "      <td>107551.500000</td>\n",
       "      <td>0.677746</td>\n",
       "      <td>0.440751</td>\n",
       "      <td>-1.107019</td>\n",
       "      <td>0.703776</td>\n",
       "      <td>-0.781410</td>\n",
       "    </tr>\n",
       "    <tr>\n",
       "      <th>1</th>\n",
       "      <td>0.027444</td>\n",
       "      <td>0.168096</td>\n",
       "      <td>35.737564</td>\n",
       "      <td>0.734134</td>\n",
       "      <td>141525.826758</td>\n",
       "      <td>1.267581</td>\n",
       "      <td>1.480274</td>\n",
       "      <td>1.372663</td>\n",
       "      <td>-1.046172</td>\n",
       "      <td>-0.248046</td>\n",
       "    </tr>\n",
       "    <tr>\n",
       "      <th>2</th>\n",
       "      <td>0.306522</td>\n",
       "      <td>0.095652</td>\n",
       "      <td>35.313043</td>\n",
       "      <td>0.760870</td>\n",
       "      <td>93692.567391</td>\n",
       "      <td>0.252174</td>\n",
       "      <td>0.039130</td>\n",
       "      <td>-1.046406</td>\n",
       "      <td>-0.902963</td>\n",
       "      <td>1.003644</td>\n",
       "    </tr>\n",
       "    <tr>\n",
       "      <th>3</th>\n",
       "      <td>0.505660</td>\n",
       "      <td>0.690566</td>\n",
       "      <td>55.679245</td>\n",
       "      <td>2.128302</td>\n",
       "      <td>158019.101887</td>\n",
       "      <td>1.120755</td>\n",
       "      <td>1.101887</td>\n",
       "      <td>1.687328</td>\n",
       "      <td>2.031200</td>\n",
       "      <td>0.844039</td>\n",
       "    </tr>\n",
       "  </tbody>\n",
       "</table>\n",
       "</div>"
      ],
      "text/plain": [
       "                          Sex  Marital status        Age  Education  \\\n",
       "Segment K-means PCA                                                   \n",
       "0                    0.900289        0.965318  28.878613   1.060694   \n",
       "1                    0.027444        0.168096  35.737564   0.734134   \n",
       "2                    0.306522        0.095652  35.313043   0.760870   \n",
       "3                    0.505660        0.690566  55.679245   2.128302   \n",
       "\n",
       "                            Income  Occupation  Settlement size  Component 1  \\\n",
       "Segment K-means PCA                                                            \n",
       "0                    107551.500000    0.677746         0.440751    -1.107019   \n",
       "1                    141525.826758    1.267581         1.480274     1.372663   \n",
       "2                     93692.567391    0.252174         0.039130    -1.046406   \n",
       "3                    158019.101887    1.120755         1.101887     1.687328   \n",
       "\n",
       "                     Component 2  Component 3  \n",
       "Segment K-means PCA                            \n",
       "0                       0.703776    -0.781410  \n",
       "1                      -1.046172    -0.248046  \n",
       "2                      -0.902963     1.003644  \n",
       "3                       2.031200     0.844039  "
      ]
     },
     "execution_count": 48,
     "metadata": {},
     "output_type": "execute_result"
    }
   ],
   "source": [
    "# We calculate the means by segments.\n",
    "df_segm_pca_kmeans_freq = df_segm_pca_kmeans.groupby(['Segment K-means PCA']).mean()\n",
    "df_segm_pca_kmeans_freq"
   ]
  },
  {
   "cell_type": "code",
   "execution_count": 49,
   "metadata": {
    "scrolled": false
   },
   "outputs": [
    {
     "data": {
      "text/html": [
       "<div>\n",
       "<style scoped>\n",
       "    .dataframe tbody tr th:only-of-type {\n",
       "        vertical-align: middle;\n",
       "    }\n",
       "\n",
       "    .dataframe tbody tr th {\n",
       "        vertical-align: top;\n",
       "    }\n",
       "\n",
       "    .dataframe thead th {\n",
       "        text-align: right;\n",
       "    }\n",
       "</style>\n",
       "<table border=\"1\" class=\"dataframe\">\n",
       "  <thead>\n",
       "    <tr style=\"text-align: right;\">\n",
       "      <th></th>\n",
       "      <th>Sex</th>\n",
       "      <th>Marital status</th>\n",
       "      <th>Age</th>\n",
       "      <th>Education</th>\n",
       "      <th>Income</th>\n",
       "      <th>Occupation</th>\n",
       "      <th>Settlement size</th>\n",
       "      <th>Component 1</th>\n",
       "      <th>Component 2</th>\n",
       "      <th>Component 3</th>\n",
       "      <th>N Obs</th>\n",
       "      <th>Prop Obs</th>\n",
       "    </tr>\n",
       "    <tr>\n",
       "      <th>Segment K-means PCA</th>\n",
       "      <th></th>\n",
       "      <th></th>\n",
       "      <th></th>\n",
       "      <th></th>\n",
       "      <th></th>\n",
       "      <th></th>\n",
       "      <th></th>\n",
       "      <th></th>\n",
       "      <th></th>\n",
       "      <th></th>\n",
       "      <th></th>\n",
       "      <th></th>\n",
       "    </tr>\n",
       "  </thead>\n",
       "  <tbody>\n",
       "    <tr>\n",
       "      <th>standard</th>\n",
       "      <td>0.900289</td>\n",
       "      <td>0.965318</td>\n",
       "      <td>28.878613</td>\n",
       "      <td>1.060694</td>\n",
       "      <td>107551.500000</td>\n",
       "      <td>0.677746</td>\n",
       "      <td>0.440751</td>\n",
       "      <td>-1.107019</td>\n",
       "      <td>0.703776</td>\n",
       "      <td>-0.781410</td>\n",
       "      <td>692</td>\n",
       "      <td>0.3460</td>\n",
       "    </tr>\n",
       "    <tr>\n",
       "      <th>career focused</th>\n",
       "      <td>0.027444</td>\n",
       "      <td>0.168096</td>\n",
       "      <td>35.737564</td>\n",
       "      <td>0.734134</td>\n",
       "      <td>141525.826758</td>\n",
       "      <td>1.267581</td>\n",
       "      <td>1.480274</td>\n",
       "      <td>1.372663</td>\n",
       "      <td>-1.046172</td>\n",
       "      <td>-0.248046</td>\n",
       "      <td>583</td>\n",
       "      <td>0.2915</td>\n",
       "    </tr>\n",
       "    <tr>\n",
       "      <th>fewer opportunities</th>\n",
       "      <td>0.306522</td>\n",
       "      <td>0.095652</td>\n",
       "      <td>35.313043</td>\n",
       "      <td>0.760870</td>\n",
       "      <td>93692.567391</td>\n",
       "      <td>0.252174</td>\n",
       "      <td>0.039130</td>\n",
       "      <td>-1.046406</td>\n",
       "      <td>-0.902963</td>\n",
       "      <td>1.003644</td>\n",
       "      <td>460</td>\n",
       "      <td>0.2300</td>\n",
       "    </tr>\n",
       "    <tr>\n",
       "      <th>well-off</th>\n",
       "      <td>0.505660</td>\n",
       "      <td>0.690566</td>\n",
       "      <td>55.679245</td>\n",
       "      <td>2.128302</td>\n",
       "      <td>158019.101887</td>\n",
       "      <td>1.120755</td>\n",
       "      <td>1.101887</td>\n",
       "      <td>1.687328</td>\n",
       "      <td>2.031200</td>\n",
       "      <td>0.844039</td>\n",
       "      <td>265</td>\n",
       "      <td>0.1325</td>\n",
       "    </tr>\n",
       "  </tbody>\n",
       "</table>\n",
       "</div>"
      ],
      "text/plain": [
       "                          Sex  Marital status        Age  Education  \\\n",
       "Segment K-means PCA                                                   \n",
       "standard             0.900289        0.965318  28.878613   1.060694   \n",
       "career focused       0.027444        0.168096  35.737564   0.734134   \n",
       "fewer opportunities  0.306522        0.095652  35.313043   0.760870   \n",
       "well-off             0.505660        0.690566  55.679245   2.128302   \n",
       "\n",
       "                            Income  Occupation  Settlement size  Component 1  \\\n",
       "Segment K-means PCA                                                            \n",
       "standard             107551.500000    0.677746         0.440751    -1.107019   \n",
       "career focused       141525.826758    1.267581         1.480274     1.372663   \n",
       "fewer opportunities   93692.567391    0.252174         0.039130    -1.046406   \n",
       "well-off             158019.101887    1.120755         1.101887     1.687328   \n",
       "\n",
       "                     Component 2  Component 3  N Obs  Prop Obs  \n",
       "Segment K-means PCA                                             \n",
       "standard                0.703776    -0.781410    692    0.3460  \n",
       "career focused         -1.046172    -0.248046    583    0.2915  \n",
       "fewer opportunities    -0.902963     1.003644    460    0.2300  \n",
       "well-off                2.031200     0.844039    265    0.1325  "
      ]
     },
     "execution_count": 49,
     "metadata": {},
     "output_type": "execute_result"
    }
   ],
   "source": [
    "# Calculate the size of each cluster and its proportion to the entire data set.\n",
    "df_segm_pca_kmeans_freq['N Obs'] = df_segm_pca_kmeans[['Segment K-means PCA','Sex']].groupby(['Segment K-means PCA']).count()\n",
    "df_segm_pca_kmeans_freq['Prop Obs'] = df_segm_pca_kmeans_freq['N Obs'] / df_segm_pca_kmeans_freq['N Obs'].sum()\n",
    "df_segm_pca_kmeans_freq = df_segm_pca_kmeans_freq.rename({0:'standard', \n",
    "                                                          1:'career focused',\n",
    "                                                          2:'fewer opportunities', \n",
    "                                                          3:'well-off'})\n",
    "df_segm_pca_kmeans_freq"
   ]
  },
  {
   "cell_type": "code",
   "execution_count": 50,
   "metadata": {},
   "outputs": [],
   "source": [
    "df_segm_pca_kmeans['Legend'] = df_segm_pca_kmeans['Segment K-means PCA'].map({0:'standard', \n",
    "                                                          1:'career focused',\n",
    "                                                          2:'fewer opportunities', \n",
    "                                                          3:'well-off'})"
   ]
  },
  {
   "cell_type": "code",
   "execution_count": 51,
   "metadata": {},
   "outputs": [
    {
     "data": {
      "text/html": [
       "<div>\n",
       "<style scoped>\n",
       "    .dataframe tbody tr th:only-of-type {\n",
       "        vertical-align: middle;\n",
       "    }\n",
       "\n",
       "    .dataframe tbody tr th {\n",
       "        vertical-align: top;\n",
       "    }\n",
       "\n",
       "    .dataframe thead th {\n",
       "        text-align: right;\n",
       "    }\n",
       "</style>\n",
       "<table border=\"1\" class=\"dataframe\">\n",
       "  <thead>\n",
       "    <tr style=\"text-align: right;\">\n",
       "      <th></th>\n",
       "      <th>Sex</th>\n",
       "      <th>Marital status</th>\n",
       "      <th>Age</th>\n",
       "      <th>Education</th>\n",
       "      <th>Income</th>\n",
       "      <th>Occupation</th>\n",
       "      <th>Settlement size</th>\n",
       "      <th>Component 1</th>\n",
       "      <th>Component 2</th>\n",
       "      <th>Component 3</th>\n",
       "      <th>Segment K-means PCA</th>\n",
       "      <th>Legend</th>\n",
       "    </tr>\n",
       "  </thead>\n",
       "  <tbody>\n",
       "    <tr>\n",
       "      <th>0</th>\n",
       "      <td>0</td>\n",
       "      <td>0</td>\n",
       "      <td>67</td>\n",
       "      <td>2</td>\n",
       "      <td>124670</td>\n",
       "      <td>1</td>\n",
       "      <td>2</td>\n",
       "      <td>2.514746</td>\n",
       "      <td>0.834122</td>\n",
       "      <td>2.174806</td>\n",
       "      <td>3</td>\n",
       "      <td>well-off</td>\n",
       "    </tr>\n",
       "    <tr>\n",
       "      <th>1</th>\n",
       "      <td>1</td>\n",
       "      <td>1</td>\n",
       "      <td>22</td>\n",
       "      <td>1</td>\n",
       "      <td>150773</td>\n",
       "      <td>1</td>\n",
       "      <td>2</td>\n",
       "      <td>0.344935</td>\n",
       "      <td>0.598146</td>\n",
       "      <td>-2.211603</td>\n",
       "      <td>0</td>\n",
       "      <td>standard</td>\n",
       "    </tr>\n",
       "    <tr>\n",
       "      <th>2</th>\n",
       "      <td>0</td>\n",
       "      <td>0</td>\n",
       "      <td>49</td>\n",
       "      <td>1</td>\n",
       "      <td>89210</td>\n",
       "      <td>0</td>\n",
       "      <td>0</td>\n",
       "      <td>-0.651063</td>\n",
       "      <td>-0.680093</td>\n",
       "      <td>2.280419</td>\n",
       "      <td>2</td>\n",
       "      <td>fewer opportunities</td>\n",
       "    </tr>\n",
       "    <tr>\n",
       "      <th>3</th>\n",
       "      <td>0</td>\n",
       "      <td>0</td>\n",
       "      <td>45</td>\n",
       "      <td>1</td>\n",
       "      <td>171565</td>\n",
       "      <td>1</td>\n",
       "      <td>1</td>\n",
       "      <td>1.714316</td>\n",
       "      <td>-0.579927</td>\n",
       "      <td>0.730731</td>\n",
       "      <td>1</td>\n",
       "      <td>career focused</td>\n",
       "    </tr>\n",
       "    <tr>\n",
       "      <th>4</th>\n",
       "      <td>0</td>\n",
       "      <td>0</td>\n",
       "      <td>53</td>\n",
       "      <td>1</td>\n",
       "      <td>149031</td>\n",
       "      <td>1</td>\n",
       "      <td>1</td>\n",
       "      <td>1.626745</td>\n",
       "      <td>-0.440496</td>\n",
       "      <td>1.244909</td>\n",
       "      <td>1</td>\n",
       "      <td>career focused</td>\n",
       "    </tr>\n",
       "    <tr>\n",
       "      <th>...</th>\n",
       "      <td>...</td>\n",
       "      <td>...</td>\n",
       "      <td>...</td>\n",
       "      <td>...</td>\n",
       "      <td>...</td>\n",
       "      <td>...</td>\n",
       "      <td>...</td>\n",
       "      <td>...</td>\n",
       "      <td>...</td>\n",
       "      <td>...</td>\n",
       "      <td>...</td>\n",
       "      <td>...</td>\n",
       "    </tr>\n",
       "    <tr>\n",
       "      <th>1995</th>\n",
       "      <td>1</td>\n",
       "      <td>0</td>\n",
       "      <td>47</td>\n",
       "      <td>1</td>\n",
       "      <td>123525</td>\n",
       "      <td>0</td>\n",
       "      <td>0</td>\n",
       "      <td>-0.866034</td>\n",
       "      <td>0.298330</td>\n",
       "      <td>1.438958</td>\n",
       "      <td>2</td>\n",
       "      <td>fewer opportunities</td>\n",
       "    </tr>\n",
       "    <tr>\n",
       "      <th>1996</th>\n",
       "      <td>1</td>\n",
       "      <td>1</td>\n",
       "      <td>27</td>\n",
       "      <td>1</td>\n",
       "      <td>117744</td>\n",
       "      <td>1</td>\n",
       "      <td>0</td>\n",
       "      <td>-1.114957</td>\n",
       "      <td>0.794727</td>\n",
       "      <td>-1.079871</td>\n",
       "      <td>0</td>\n",
       "      <td>standard</td>\n",
       "    </tr>\n",
       "    <tr>\n",
       "      <th>1997</th>\n",
       "      <td>0</td>\n",
       "      <td>0</td>\n",
       "      <td>31</td>\n",
       "      <td>0</td>\n",
       "      <td>86400</td>\n",
       "      <td>0</td>\n",
       "      <td>0</td>\n",
       "      <td>-1.452298</td>\n",
       "      <td>-2.235937</td>\n",
       "      <td>0.896571</td>\n",
       "      <td>2</td>\n",
       "      <td>fewer opportunities</td>\n",
       "    </tr>\n",
       "    <tr>\n",
       "      <th>1998</th>\n",
       "      <td>1</td>\n",
       "      <td>1</td>\n",
       "      <td>24</td>\n",
       "      <td>1</td>\n",
       "      <td>97968</td>\n",
       "      <td>0</td>\n",
       "      <td>0</td>\n",
       "      <td>-2.241453</td>\n",
       "      <td>0.627108</td>\n",
       "      <td>-0.530456</td>\n",
       "      <td>0</td>\n",
       "      <td>standard</td>\n",
       "    </tr>\n",
       "    <tr>\n",
       "      <th>1999</th>\n",
       "      <td>0</td>\n",
       "      <td>0</td>\n",
       "      <td>25</td>\n",
       "      <td>0</td>\n",
       "      <td>68416</td>\n",
       "      <td>0</td>\n",
       "      <td>0</td>\n",
       "      <td>-1.866885</td>\n",
       "      <td>-2.454672</td>\n",
       "      <td>0.662622</td>\n",
       "      <td>2</td>\n",
       "      <td>fewer opportunities</td>\n",
       "    </tr>\n",
       "  </tbody>\n",
       "</table>\n",
       "<p>2000 rows × 12 columns</p>\n",
       "</div>"
      ],
      "text/plain": [
       "      Sex  Marital status  Age  Education  Income  Occupation  \\\n",
       "0       0               0   67          2  124670           1   \n",
       "1       1               1   22          1  150773           1   \n",
       "2       0               0   49          1   89210           0   \n",
       "3       0               0   45          1  171565           1   \n",
       "4       0               0   53          1  149031           1   \n",
       "...   ...             ...  ...        ...     ...         ...   \n",
       "1995    1               0   47          1  123525           0   \n",
       "1996    1               1   27          1  117744           1   \n",
       "1997    0               0   31          0   86400           0   \n",
       "1998    1               1   24          1   97968           0   \n",
       "1999    0               0   25          0   68416           0   \n",
       "\n",
       "      Settlement size  Component 1  Component 2  Component 3  \\\n",
       "0                   2     2.514746     0.834122     2.174806   \n",
       "1                   2     0.344935     0.598146    -2.211603   \n",
       "2                   0    -0.651063    -0.680093     2.280419   \n",
       "3                   1     1.714316    -0.579927     0.730731   \n",
       "4                   1     1.626745    -0.440496     1.244909   \n",
       "...               ...          ...          ...          ...   \n",
       "1995                0    -0.866034     0.298330     1.438958   \n",
       "1996                0    -1.114957     0.794727    -1.079871   \n",
       "1997                0    -1.452298    -2.235937     0.896571   \n",
       "1998                0    -2.241453     0.627108    -0.530456   \n",
       "1999                0    -1.866885    -2.454672     0.662622   \n",
       "\n",
       "      Segment K-means PCA               Legend  \n",
       "0                       3             well-off  \n",
       "1                       0             standard  \n",
       "2                       2  fewer opportunities  \n",
       "3                       1       career focused  \n",
       "4                       1       career focused  \n",
       "...                   ...                  ...  \n",
       "1995                    2  fewer opportunities  \n",
       "1996                    0             standard  \n",
       "1997                    2  fewer opportunities  \n",
       "1998                    0             standard  \n",
       "1999                    2  fewer opportunities  \n",
       "\n",
       "[2000 rows x 12 columns]"
      ]
     },
     "execution_count": 51,
     "metadata": {},
     "output_type": "execute_result"
    }
   ],
   "source": [
    "df_segm_pca_kmeans"
   ]
  },
  {
   "cell_type": "code",
   "execution_count": 52,
   "metadata": {},
   "outputs": [
    {
     "data": {
      "text/html": [
       "<div>\n",
       "<style scoped>\n",
       "    .dataframe tbody tr th:only-of-type {\n",
       "        vertical-align: middle;\n",
       "    }\n",
       "\n",
       "    .dataframe tbody tr th {\n",
       "        vertical-align: top;\n",
       "    }\n",
       "\n",
       "    .dataframe thead th {\n",
       "        text-align: right;\n",
       "    }\n",
       "</style>\n",
       "<table border=\"1\" class=\"dataframe\">\n",
       "  <thead>\n",
       "    <tr style=\"text-align: right;\">\n",
       "      <th></th>\n",
       "      <th>Sex</th>\n",
       "      <th>Marital status</th>\n",
       "      <th>Age</th>\n",
       "      <th>Education</th>\n",
       "      <th>Income</th>\n",
       "      <th>Occupation</th>\n",
       "      <th>Settlement size</th>\n",
       "      <th>Component 1</th>\n",
       "      <th>Component 2</th>\n",
       "      <th>Component 3</th>\n",
       "      <th>Segment K-means PCA</th>\n",
       "      <th>Legend</th>\n",
       "    </tr>\n",
       "  </thead>\n",
       "  <tbody>\n",
       "    <tr>\n",
       "      <th>0</th>\n",
       "      <td>0</td>\n",
       "      <td>0</td>\n",
       "      <td>67</td>\n",
       "      <td>2</td>\n",
       "      <td>124670</td>\n",
       "      <td>1</td>\n",
       "      <td>2</td>\n",
       "      <td>2.514746</td>\n",
       "      <td>0.834122</td>\n",
       "      <td>2.174806</td>\n",
       "      <td>3</td>\n",
       "      <td>well-off</td>\n",
       "    </tr>\n",
       "    <tr>\n",
       "      <th>1</th>\n",
       "      <td>1</td>\n",
       "      <td>1</td>\n",
       "      <td>22</td>\n",
       "      <td>1</td>\n",
       "      <td>150773</td>\n",
       "      <td>1</td>\n",
       "      <td>2</td>\n",
       "      <td>0.344935</td>\n",
       "      <td>0.598146</td>\n",
       "      <td>-2.211603</td>\n",
       "      <td>0</td>\n",
       "      <td>standard</td>\n",
       "    </tr>\n",
       "    <tr>\n",
       "      <th>2</th>\n",
       "      <td>0</td>\n",
       "      <td>0</td>\n",
       "      <td>49</td>\n",
       "      <td>1</td>\n",
       "      <td>89210</td>\n",
       "      <td>0</td>\n",
       "      <td>0</td>\n",
       "      <td>-0.651063</td>\n",
       "      <td>-0.680093</td>\n",
       "      <td>2.280419</td>\n",
       "      <td>2</td>\n",
       "      <td>fewer opportunities</td>\n",
       "    </tr>\n",
       "    <tr>\n",
       "      <th>3</th>\n",
       "      <td>0</td>\n",
       "      <td>0</td>\n",
       "      <td>45</td>\n",
       "      <td>1</td>\n",
       "      <td>171565</td>\n",
       "      <td>1</td>\n",
       "      <td>1</td>\n",
       "      <td>1.714316</td>\n",
       "      <td>-0.579927</td>\n",
       "      <td>0.730731</td>\n",
       "      <td>1</td>\n",
       "      <td>career focused</td>\n",
       "    </tr>\n",
       "    <tr>\n",
       "      <th>4</th>\n",
       "      <td>0</td>\n",
       "      <td>0</td>\n",
       "      <td>53</td>\n",
       "      <td>1</td>\n",
       "      <td>149031</td>\n",
       "      <td>1</td>\n",
       "      <td>1</td>\n",
       "      <td>1.626745</td>\n",
       "      <td>-0.440496</td>\n",
       "      <td>1.244909</td>\n",
       "      <td>1</td>\n",
       "      <td>career focused</td>\n",
       "    </tr>\n",
       "    <tr>\n",
       "      <th>5</th>\n",
       "      <td>0</td>\n",
       "      <td>0</td>\n",
       "      <td>35</td>\n",
       "      <td>1</td>\n",
       "      <td>144848</td>\n",
       "      <td>0</td>\n",
       "      <td>0</td>\n",
       "      <td>-0.274734</td>\n",
       "      <td>-0.871070</td>\n",
       "      <td>1.310152</td>\n",
       "      <td>2</td>\n",
       "      <td>fewer opportunities</td>\n",
       "    </tr>\n",
       "  </tbody>\n",
       "</table>\n",
       "</div>"
      ],
      "text/plain": [
       "   Sex  Marital status  Age  Education  Income  Occupation  Settlement size  \\\n",
       "0    0               0   67          2  124670           1                2   \n",
       "1    1               1   22          1  150773           1                2   \n",
       "2    0               0   49          1   89210           0                0   \n",
       "3    0               0   45          1  171565           1                1   \n",
       "4    0               0   53          1  149031           1                1   \n",
       "5    0               0   35          1  144848           0                0   \n",
       "\n",
       "   Component 1  Component 2  Component 3  Segment K-means PCA  \\\n",
       "0     2.514746     0.834122     2.174806                    3   \n",
       "1     0.344935     0.598146    -2.211603                    0   \n",
       "2    -0.651063    -0.680093     2.280419                    2   \n",
       "3     1.714316    -0.579927     0.730731                    1   \n",
       "4     1.626745    -0.440496     1.244909                    1   \n",
       "5    -0.274734    -0.871070     1.310152                    2   \n",
       "\n",
       "                Legend  \n",
       "0             well-off  \n",
       "1             standard  \n",
       "2  fewer opportunities  \n",
       "3       career focused  \n",
       "4       career focused  \n",
       "5  fewer opportunities  "
      ]
     },
     "execution_count": 52,
     "metadata": {},
     "output_type": "execute_result"
    }
   ],
   "source": [
    "df_segm_pca_kmeans.head(6)\n"
   ]
  },
  {
   "cell_type": "code",
   "execution_count": 53,
   "metadata": {},
   "outputs": [],
   "source": [
    "x=df_segm_pca_kmeans.iloc[:,[0,2,4,5,6,7,8,9]].values\n",
    "y=df_segm_pca_kmeans['Segment K-means PCA'].values"
   ]
  },
  {
   "cell_type": "code",
   "execution_count": 54,
   "metadata": {},
   "outputs": [],
   "source": [
    "from sklearn.model_selection import train_test_split\n",
    "train_x, test_x, train_y, test_y = train_test_split(x,y, test_size=0.2, random_state=0)\n"
   ]
  },
  {
   "cell_type": "code",
   "execution_count": 55,
   "metadata": {},
   "outputs": [
    {
     "data": {
      "text/plain": [
       "RandomForestClassifier(random_state=13)"
      ]
     },
     "execution_count": 55,
     "metadata": {},
     "output_type": "execute_result"
    }
   ],
   "source": [
    "from sklearn.ensemble import RandomForestClassifier\n",
    "\n",
    "model = RandomForestClassifier(random_state=13)\n",
    "model.fit(train_x, train_y)"
   ]
  },
  {
   "cell_type": "code",
   "execution_count": 56,
   "metadata": {},
   "outputs": [
    {
     "data": {
      "text/plain": [
       "1.0"
      ]
     },
     "execution_count": 56,
     "metadata": {},
     "output_type": "execute_result"
    }
   ],
   "source": [
    "predicted = model.predict(test_x)\n",
    "model.score(test_x, test_y)"
   ]
  },
  {
   "cell_type": "code",
   "execution_count": 57,
   "metadata": {},
   "outputs": [],
   "source": [
    "from sklearn.metrics import roc_auc_score\n",
    "probabilities = model.predict_proba(test_x)"
   ]
  },
  {
   "cell_type": "code",
   "execution_count": 58,
   "metadata": {},
   "outputs": [
    {
     "data": {
      "text/plain": [
       "array([[139,   0,   0,   0],\n",
       "       [  0, 115,   0,   0],\n",
       "       [  0,   0,  98,   0],\n",
       "       [  0,   0,   0,  48]], dtype=int64)"
      ]
     },
     "execution_count": 58,
     "metadata": {},
     "output_type": "execute_result"
    }
   ],
   "source": [
    "from sklearn.metrics import confusion_matrix\n",
    "confusion_matrix(test_y, predicted)"
   ]
  },
  {
   "cell_type": "code",
   "execution_count": 59,
   "metadata": {},
   "outputs": [
    {
     "data": {
      "text/plain": [
       "1.0"
      ]
     },
     "execution_count": 59,
     "metadata": {},
     "output_type": "execute_result"
    }
   ],
   "source": [
    "from sklearn.metrics import precision_score\n",
    "\n",
    "train_predictions = model.predict(train_x)\n",
    "precision_score(train_y, train_predictions, average='micro')"
   ]
  },
  {
   "cell_type": "code",
   "execution_count": 60,
   "metadata": {},
   "outputs": [],
   "source": [
    "# print(train_x[100])\n",
    "# train_predictions = model.predict_proba([train_x[100]])\n",
    "# print(train_predictions)"
   ]
  },
  {
   "cell_type": "code",
   "execution_count": 61,
   "metadata": {},
   "outputs": [],
   "source": [
    "# import pickle\n",
    "# pickle.dump(model, open('model.pkl', 'wb'))"
   ]
  },
  {
   "cell_type": "code",
   "execution_count": 62,
   "metadata": {},
   "outputs": [],
   "source": [
    "# pickled_model = pickle.load(open('model.pkl', 'rb'))\n",
    "# Sex=1\n",
    "# Age=22\n",
    "# Income=150773\n",
    "# Occupation=1\n",
    "# Settlement_size=2\n",
    "# Component_1 =0.344935\n",
    "# Component_2=0.598146\n",
    "# Component_3=2.211603\n",
    "# predict=pickled_model.predict([[Sex,Age,Income,Occupation,Settlement_size,Component_1,Component_2,Component_3]])\n",
    "# print(predict)"
   ]
  },
  {
   "cell_type": "code",
   "execution_count": null,
   "metadata": {},
   "outputs": [],
   "source": []
  }
 ],
 "metadata": {
  "kernelspec": {
   "display_name": "Python 3 (ipykernel)",
   "language": "python",
   "name": "python3"
  },
  "language_info": {
   "codemirror_mode": {
    "name": "ipython",
    "version": 3
   },
   "file_extension": ".py",
   "mimetype": "text/x-python",
   "name": "python",
   "nbconvert_exporter": "python",
   "pygments_lexer": "ipython3",
   "version": "3.7.0"
  }
 },
 "nbformat": 4,
 "nbformat_minor": 4
}
